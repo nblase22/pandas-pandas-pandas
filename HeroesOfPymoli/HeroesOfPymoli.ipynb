{
 "cells": [
  {
   "cell_type": "code",
   "execution_count": 2,
   "metadata": {
    "collapsed": true
   },
   "outputs": [],
   "source": [
    "# import pandas\n",
    "import pandas as pd"
   ]
  },
  {
   "cell_type": "code",
   "execution_count": 15,
   "metadata": {},
   "outputs": [
    {
     "data": {
      "text/html": [
       "<div>\n",
       "<style>\n",
       "    .dataframe thead tr:only-child th {\n",
       "        text-align: right;\n",
       "    }\n",
       "\n",
       "    .dataframe thead th {\n",
       "        text-align: left;\n",
       "    }\n",
       "\n",
       "    .dataframe tbody tr th {\n",
       "        vertical-align: top;\n",
       "    }\n",
       "</style>\n",
       "<table border=\"1\" class=\"dataframe\">\n",
       "  <thead>\n",
       "    <tr style=\"text-align: right;\">\n",
       "      <th></th>\n",
       "      <th>Age</th>\n",
       "      <th>Gender</th>\n",
       "      <th>Item ID</th>\n",
       "      <th>Item Name</th>\n",
       "      <th>Price</th>\n",
       "      <th>SN</th>\n",
       "    </tr>\n",
       "  </thead>\n",
       "  <tbody>\n",
       "    <tr>\n",
       "      <th>0</th>\n",
       "      <td>20</td>\n",
       "      <td>Male</td>\n",
       "      <td>93</td>\n",
       "      <td>Apocalyptic Battlescythe</td>\n",
       "      <td>4.49</td>\n",
       "      <td>Iloni35</td>\n",
       "    </tr>\n",
       "    <tr>\n",
       "      <th>1</th>\n",
       "      <td>21</td>\n",
       "      <td>Male</td>\n",
       "      <td>12</td>\n",
       "      <td>Dawne</td>\n",
       "      <td>3.36</td>\n",
       "      <td>Aidaira26</td>\n",
       "    </tr>\n",
       "    <tr>\n",
       "      <th>2</th>\n",
       "      <td>17</td>\n",
       "      <td>Male</td>\n",
       "      <td>5</td>\n",
       "      <td>Putrid Fan</td>\n",
       "      <td>2.63</td>\n",
       "      <td>Irim47</td>\n",
       "    </tr>\n",
       "    <tr>\n",
       "      <th>3</th>\n",
       "      <td>17</td>\n",
       "      <td>Male</td>\n",
       "      <td>123</td>\n",
       "      <td>Twilight's Carver</td>\n",
       "      <td>2.55</td>\n",
       "      <td>Irith83</td>\n",
       "    </tr>\n",
       "    <tr>\n",
       "      <th>4</th>\n",
       "      <td>22</td>\n",
       "      <td>Male</td>\n",
       "      <td>154</td>\n",
       "      <td>Feral Katana</td>\n",
       "      <td>4.11</td>\n",
       "      <td>Philodil43</td>\n",
       "    </tr>\n",
       "  </tbody>\n",
       "</table>\n",
       "</div>"
      ],
      "text/plain": [
       "   Age Gender  Item ID                 Item Name  Price          SN\n",
       "0   20   Male       93  Apocalyptic Battlescythe   4.49     Iloni35\n",
       "1   21   Male       12                     Dawne   3.36   Aidaira26\n",
       "2   17   Male        5                Putrid Fan   2.63      Irim47\n",
       "3   17   Male      123         Twilight's Carver   2.55     Irith83\n",
       "4   22   Male      154              Feral Katana   4.11  Philodil43"
      ]
     },
     "execution_count": 15,
     "metadata": {},
     "output_type": "execute_result"
    }
   ],
   "source": [
    "#import data file for use\n",
    "# Data formatted as SN, Age, Gender, Item ID, Item Name, Price\n",
    "json_path = \"purchase_data.json\"\n",
    "\n",
    "p_data_df = pd.read_json(json_path)\n",
    "\n",
    "p_data_df.head()"
   ]
  },
  {
   "cell_type": "code",
   "execution_count": 4,
   "metadata": {},
   "outputs": [
    {
     "data": {
      "text/html": [
       "<div>\n",
       "<style>\n",
       "    .dataframe thead tr:only-child th {\n",
       "        text-align: right;\n",
       "    }\n",
       "\n",
       "    .dataframe thead th {\n",
       "        text-align: left;\n",
       "    }\n",
       "\n",
       "    .dataframe tbody tr th {\n",
       "        vertical-align: top;\n",
       "    }\n",
       "</style>\n",
       "<table border=\"1\" class=\"dataframe\">\n",
       "  <thead>\n",
       "    <tr style=\"text-align: right;\">\n",
       "      <th></th>\n",
       "      <th>Total Number of Players</th>\n",
       "    </tr>\n",
       "  </thead>\n",
       "  <tbody>\n",
       "    <tr>\n",
       "      <th>0</th>\n",
       "      <td>74</td>\n",
       "    </tr>\n",
       "  </tbody>\n",
       "</table>\n",
       "</div>"
      ],
      "text/plain": [
       "   Total Number of Players\n",
       "0                       74"
      ]
     },
     "execution_count": 4,
     "metadata": {},
     "output_type": "execute_result"
    }
   ],
   "source": [
    "# PLAYER COUNT\n",
    "# get number of players\n",
    "player_count = len(p_data_df[\"SN\"].unique())\n",
    "player_count_df = pd.DataFrame({\"Total Number of Players\": [player_count]})\n",
    "player_count_df"
   ]
  },
  {
   "cell_type": "code",
   "execution_count": 5,
   "metadata": {},
   "outputs": [
    {
     "data": {
      "text/html": [
       "<div>\n",
       "<style>\n",
       "    .dataframe thead tr:only-child th {\n",
       "        text-align: right;\n",
       "    }\n",
       "\n",
       "    .dataframe thead th {\n",
       "        text-align: left;\n",
       "    }\n",
       "\n",
       "    .dataframe tbody tr th {\n",
       "        vertical-align: top;\n",
       "    }\n",
       "</style>\n",
       "<table border=\"1\" class=\"dataframe\">\n",
       "  <thead>\n",
       "    <tr style=\"text-align: right;\">\n",
       "      <th></th>\n",
       "      <th>Average Price</th>\n",
       "      <th>Number of Purchases</th>\n",
       "      <th>Number of Unique Items</th>\n",
       "      <th>Total Revenue</th>\n",
       "    </tr>\n",
       "  </thead>\n",
       "  <tbody>\n",
       "    <tr>\n",
       "      <th>0</th>\n",
       "      <td>$2.92</td>\n",
       "      <td>78</td>\n",
       "      <td>63</td>\n",
       "      <td>$228.1</td>\n",
       "    </tr>\n",
       "  </tbody>\n",
       "</table>\n",
       "</div>"
      ],
      "text/plain": [
       "  Average Price  Number of Purchases  Number of Unique Items Total Revenue\n",
       "0         $2.92                   78                      63        $228.1"
      ]
     },
     "execution_count": 5,
     "metadata": {},
     "output_type": "execute_result"
    }
   ],
   "source": [
    "# Purchasing Analysis\n",
    "\n",
    "# number of unique items\n",
    "num_unique_items = len(p_data_df[\"Item Name\"].unique())\n",
    "\n",
    "# average purchase price\n",
    "avg_purch_price = round(p_data_df[\"Price\"].mean(), 2)\n",
    "\n",
    "# total number of purchases\n",
    "tot_purch = p_data_df[\"SN\"].count()\n",
    "\n",
    "# total revenue\n",
    "tot_rev = round(p_data_df[\"Price\"].sum(), 2)\n",
    "\n",
    "purch_ana_df = pd.DataFrame({\"Number of Unique Items\": [num_unique_items], \"Number of Purchases\": [tot_purch],\n",
    "                             \"Average Price\": [\"$\" + str(avg_purch_price)], \"Total Revenue\": [\"$\" + str(tot_rev)]})\n",
    "\n",
    "purch_ana_df"
   ]
  },
  {
   "cell_type": "code",
   "execution_count": 17,
   "metadata": {},
   "outputs": [
    {
     "data": {
      "text/html": [
       "<div>\n",
       "<style>\n",
       "    .dataframe thead tr:only-child th {\n",
       "        text-align: right;\n",
       "    }\n",
       "\n",
       "    .dataframe thead th {\n",
       "        text-align: left;\n",
       "    }\n",
       "\n",
       "    .dataframe tbody tr th {\n",
       "        vertical-align: top;\n",
       "    }\n",
       "</style>\n",
       "<table border=\"1\" class=\"dataframe\">\n",
       "  <thead>\n",
       "    <tr style=\"text-align: right;\">\n",
       "      <th></th>\n",
       "      <th>Percentage of Players</th>\n",
       "      <th>Total Count</th>\n",
       "    </tr>\n",
       "    <tr>\n",
       "      <th>Gender</th>\n",
       "      <th></th>\n",
       "      <th></th>\n",
       "    </tr>\n",
       "  </thead>\n",
       "  <tbody>\n",
       "    <tr>\n",
       "      <th>Male</th>\n",
       "      <td>81.08</td>\n",
       "      <td>60</td>\n",
       "    </tr>\n",
       "    <tr>\n",
       "      <th>Female</th>\n",
       "      <td>17.57</td>\n",
       "      <td>13</td>\n",
       "    </tr>\n",
       "    <tr>\n",
       "      <th>Other/Non-Disclosed</th>\n",
       "      <td>1.35</td>\n",
       "      <td>1</td>\n",
       "    </tr>\n",
       "  </tbody>\n",
       "</table>\n",
       "</div>"
      ],
      "text/plain": [
       "                     Percentage of Players  Total Count\n",
       "Gender                                                 \n",
       "Male                                 81.08           60\n",
       "Female                               17.57           13\n",
       "Other/Non-Disclosed                   1.35            1"
      ]
     },
     "execution_count": 17,
     "metadata": {},
     "output_type": "execute_result"
    }
   ],
   "source": [
    "# Gender Demographics\n",
    "# percentage and count of males\n",
    "only_male = p_data_df.loc[p_data_df[\"Gender\"] == \"Male\", :]\n",
    "count_male = len(only_male[\"SN\"].unique())\n",
    "pct_male = round(count_male/player_count*100 , 2)\n",
    "\n",
    "# percentage and count of females\n",
    "only_female = p_data_df.loc[p_data_df[\"Gender\"] == \"Female\", :]\n",
    "count_female = len(only_female[\"SN\"].unique())\n",
    "pct_female = round(count_female/player_count*100 , 2)\n",
    "\n",
    "# percentage and count of Other/Non-Disclosed\n",
    "only_other_nd = p_data_df.loc[p_data_df[\"Gender\"] == \"Other / Non-Disclosed\", :]\n",
    "count_nd = len(only_other_nd[\"SN\"].unique())\n",
    "pct_nd = round(count_nd/player_count*100 , 2)\n",
    "\n",
    "# create the data frame for these items\n",
    "gender_dem_df = pd.DataFrame({\"Gender\": [\"Male\", \"Female\", \"Other/Non-Disclosed\"], \n",
    "                              \"Percentage of Players\": [pct_male, pct_female, pct_nd], \n",
    "                             \"Total Count\": [count_male, count_female, count_nd]})\n",
    "\n",
    "# reindex the data frame to get a usable format\n",
    "gender_dem_reindex = gender_dem_df.set_index(\"Gender\")\n",
    "gender_dem_reindex"
   ]
  },
  {
   "cell_type": "code",
   "execution_count": 21,
   "metadata": {},
   "outputs": [
    {
     "data": {
      "text/html": [
       "<div>\n",
       "<style>\n",
       "    .dataframe thead tr:only-child th {\n",
       "        text-align: right;\n",
       "    }\n",
       "\n",
       "    .dataframe thead th {\n",
       "        text-align: left;\n",
       "    }\n",
       "\n",
       "    .dataframe tbody tr th {\n",
       "        vertical-align: top;\n",
       "    }\n",
       "</style>\n",
       "<table border=\"1\" class=\"dataframe\">\n",
       "  <thead>\n",
       "    <tr style=\"text-align: right;\">\n",
       "      <th></th>\n",
       "      <th>Average Purchase Price</th>\n",
       "      <th>Normalized Totals</th>\n",
       "      <th>Purchase Count</th>\n",
       "      <th>Total Purchase Value</th>\n",
       "    </tr>\n",
       "    <tr>\n",
       "      <th>Gender</th>\n",
       "      <th></th>\n",
       "      <th></th>\n",
       "      <th></th>\n",
       "      <th></th>\n",
       "    </tr>\n",
       "  </thead>\n",
       "  <tbody>\n",
       "    <tr>\n",
       "      <th>Male</th>\n",
       "      <td>$2.88</td>\n",
       "      <td>$3.08</td>\n",
       "      <td>64</td>\n",
       "      <td>$184.6</td>\n",
       "    </tr>\n",
       "    <tr>\n",
       "      <th>Female</th>\n",
       "      <td>$3.18</td>\n",
       "      <td>$3.18</td>\n",
       "      <td>13</td>\n",
       "      <td>$41.38</td>\n",
       "    </tr>\n",
       "    <tr>\n",
       "      <th>Other/Non-Disclosed</th>\n",
       "      <td>$2.12</td>\n",
       "      <td>$2.12</td>\n",
       "      <td>1</td>\n",
       "      <td>$2.12</td>\n",
       "    </tr>\n",
       "  </tbody>\n",
       "</table>\n",
       "</div>"
      ],
      "text/plain": [
       "                    Average Purchase Price Normalized Totals  Purchase Count  \\\n",
       "Gender                                                                         \n",
       "Male                                 $2.88             $3.08              64   \n",
       "Female                               $3.18             $3.18              13   \n",
       "Other/Non-Disclosed                  $2.12             $2.12               1   \n",
       "\n",
       "                    Total Purchase Value  \n",
       "Gender                                    \n",
       "Male                              $184.6  \n",
       "Female                            $41.38  \n",
       "Other/Non-Disclosed                $2.12  "
      ]
     },
     "execution_count": 21,
     "metadata": {},
     "output_type": "execute_result"
    }
   ],
   "source": [
    "# Purchasing Analysis (Gender)\n",
    "# ----- Broken Down By Gender------\n",
    "# purchase count\n",
    "male_purch_cnt = only_male[\"SN\"].count()\n",
    "female_purch_cnt = only_female[\"SN\"].count()\n",
    "nd_purch_cnt = only_other_nd[\"SN\"].count()\n",
    "\n",
    "# average purchase price\n",
    "male_avg_purch = round(only_male[\"Price\"].mean(), 2)\n",
    "female_avg_purch = round(only_female[\"Price\"].mean(), 2)\n",
    "nd_avg_purch = round(only_other_nd[\"Price\"].mean(), 2)\n",
    "\n",
    "# total purchase value\n",
    "male_val_tot = only_male[\"Price\"].sum()\n",
    "female_val_tot = only_female[\"Price\"].sum()\n",
    "nd_val_tot = only_other_nd[\"Price\"].sum()\n",
    "\n",
    "# normalized totals (val tot / player count)\n",
    "male_norm_tot = round(male_val_tot/count_male, 2)\n",
    "female_norm_tot = round(female_val_tot/count_female, 2)\n",
    "nd_norm_tot = round(nd_val_tot/count_nd, 2)\n",
    "\n",
    "# set up the dataframe\n",
    "gen_purch_ana_df = pd.DataFrame({\"Gender\": [\"Male\", \"Female\", \"Other/Non-Disclosed\"],\n",
    "                                \"Purchase Count\": [male_purch_cnt, female_purch_cnt, nd_purch_cnt],\n",
    "                                \"Average Purchase Price\": [\"$\" + str(male_avg_purch), \"$\" + str(female_avg_purch), \"$\" + str(nd_avg_purch)],\n",
    "                                \"Total Purchase Value\": [\"$\" + str(male_val_tot), \"$\" + str(female_val_tot), \"$\" + str(nd_val_tot)],\n",
    "                                \"Normalized Totals\" : [\"$\" + str(male_norm_tot), \"$\" + str(female_norm_tot), \"$\" + str(nd_norm_tot)]})\n",
    "\n",
    "# reindex and print\n",
    "gen_purch_ana_reindex = gen_purch_ana_df.set_index(\"Gender\")\n",
    "gen_purch_ana_reindex"
   ]
  },
  {
   "cell_type": "code",
   "execution_count": 24,
   "metadata": {
    "collapsed": true
   },
   "outputs": [],
   "source": [
    "# AGE DEMOGRAPHICS\n",
    "# Break down into bins, list purchase count, average purchase price, total purchase value, normalized totals"
   ]
  },
  {
   "cell_type": "code",
   "execution_count": 9,
   "metadata": {
    "collapsed": true
   },
   "outputs": [],
   "source": [
    "# Top Spenders\n",
    "# id the top 5 spenders by total purchase value, List: SN, Purchase Count, Item Price, Total Purchase Value"
   ]
  },
  {
   "cell_type": "code",
   "execution_count": 10,
   "metadata": {
    "collapsed": true
   },
   "outputs": [],
   "source": [
    "# Most Popular Items\n",
    "# id 5 most pop items by purchase count, List: Item ID, Item Name, Purchase Count, Item Price, Total Purchase Value"
   ]
  },
  {
   "cell_type": "code",
   "execution_count": null,
   "metadata": {
    "collapsed": true
   },
   "outputs": [],
   "source": [
    "# Most Profitable Items\n",
    "# id the 5 most profitable items by total purchase value, List: Item Id, Item Name, Purchase Count, Item Price, TPV"
   ]
  }
 ],
 "metadata": {
  "kernelspec": {
   "display_name": "Python [conda env:PythonData]",
   "language": "python",
   "name": "conda-env-PythonData-py"
  },
  "language_info": {
   "codemirror_mode": {
    "name": "ipython",
    "version": 3
   },
   "file_extension": ".py",
   "mimetype": "text/x-python",
   "name": "python",
   "nbconvert_exporter": "python",
   "pygments_lexer": "ipython3",
   "version": "3.6.1"
  }
 },
 "nbformat": 4,
 "nbformat_minor": 2
}
